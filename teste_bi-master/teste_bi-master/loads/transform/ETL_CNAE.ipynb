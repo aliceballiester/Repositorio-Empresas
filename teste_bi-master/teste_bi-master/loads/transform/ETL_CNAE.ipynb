{
 "cells": [
  {
   "cell_type": "code",
   "execution_count": 1,
   "metadata": {},
   "outputs": [],
   "source": [
    "import pandas as pd"
   ]
  },
  {
   "cell_type": "code",
   "execution_count": 222,
   "metadata": {},
   "outputs": [],
   "source": [
    "df = pd.read_csv('C:\\\\Users\\\\Matth\\\\Downloads\\\\CNAE.csv', sep=';', encoding='utf16')"
   ]
  },
  {
   "cell_type": "code",
   "execution_count": 158,
   "metadata": {},
   "outputs": [
    {
     "data": {
      "text/html": [
       "<div>\n",
       "<style scoped>\n",
       "    .dataframe tbody tr th:only-of-type {\n",
       "        vertical-align: middle;\n",
       "    }\n",
       "\n",
       "    .dataframe tbody tr th {\n",
       "        vertical-align: top;\n",
       "    }\n",
       "\n",
       "    .dataframe thead th {\n",
       "        text-align: right;\n",
       "    }\n",
       "</style>\n",
       "<table border=\"1\" class=\"dataframe\">\n",
       "  <thead>\n",
       "    <tr style=\"text-align: right;\">\n",
       "      <th></th>\n",
       "      <th>cd_cnpj</th>\n",
       "      <th>nu_ordem</th>\n",
       "      <th>cd_ramo_atividade</th>\n",
       "      <th>de_ramo_atividade</th>\n",
       "    </tr>\n",
       "  </thead>\n",
       "  <tbody>\n",
       "    <tr>\n",
       "      <th>0</th>\n",
       "      <td>12305448000100</td>\n",
       "      <td>0~@~1~@~2~@~3~@~4</td>\n",
       "      <td>1093701~@~4789099~@~7319003~@~8230001~@~9609202</td>\n",
       "      <td>AGENCIAS MATRIMONIAIS~@~COMERCIO VAREJISTA DE ...</td>\n",
       "    </tr>\n",
       "    <tr>\n",
       "      <th>1</th>\n",
       "      <td>14180365000150</td>\n",
       "      <td>0~@~1~@~2</td>\n",
       "      <td>4530706~@~4542101~@~4613300</td>\n",
       "      <td>REPRESENTANTES COMERCIAIS E AGENTES DO COMERCI...</td>\n",
       "    </tr>\n",
       "    <tr>\n",
       "      <th>2</th>\n",
       "      <td>5610297000120</td>\n",
       "      <td>0</td>\n",
       "      <td>4782201</td>\n",
       "      <td>COMERCIO VAREJISTA DE CALCADOS</td>\n",
       "    </tr>\n",
       "    <tr>\n",
       "      <th>3</th>\n",
       "      <td>15044857000180</td>\n",
       "      <td>0</td>\n",
       "      <td>9602502</td>\n",
       "      <td>ATIVIDADES DE ESTETICA E OUTROS SERVICOS DE CU...</td>\n",
       "    </tr>\n",
       "    <tr>\n",
       "      <th>4</th>\n",
       "      <td>15028623000140</td>\n",
       "      <td>0~@~1</td>\n",
       "      <td>4789099~@~9329899</td>\n",
       "      <td>COMERCIO VAREJISTA DE OUTROS PRODUTOS NAO ESPE...</td>\n",
       "    </tr>\n",
       "  </tbody>\n",
       "</table>\n",
       "</div>"
      ],
      "text/plain": [
       "          cd_cnpj           nu_ordem  \\\n",
       "0  12305448000100  0~@~1~@~2~@~3~@~4   \n",
       "1  14180365000150          0~@~1~@~2   \n",
       "2   5610297000120                  0   \n",
       "3  15044857000180                  0   \n",
       "4  15028623000140              0~@~1   \n",
       "\n",
       "                                 cd_ramo_atividade  \\\n",
       "0  1093701~@~4789099~@~7319003~@~8230001~@~9609202   \n",
       "1                      4530706~@~4542101~@~4613300   \n",
       "2                                          4782201   \n",
       "3                                          9602502   \n",
       "4                                4789099~@~9329899   \n",
       "\n",
       "                                   de_ramo_atividade  \n",
       "0  AGENCIAS MATRIMONIAIS~@~COMERCIO VAREJISTA DE ...  \n",
       "1  REPRESENTANTES COMERCIAIS E AGENTES DO COMERCI...  \n",
       "2                     COMERCIO VAREJISTA DE CALCADOS  \n",
       "3  ATIVIDADES DE ESTETICA E OUTROS SERVICOS DE CU...  \n",
       "4  COMERCIO VAREJISTA DE OUTROS PRODUTOS NAO ESPE...  "
      ]
     },
     "execution_count": 158,
     "metadata": {},
     "output_type": "execute_result"
    }
   ],
   "source": [
    "df.head()"
   ]
  },
  {
   "cell_type": "code",
   "execution_count": 223,
   "metadata": {},
   "outputs": [],
   "source": [
    "df['nu_ordem'] = df['nu_ordem'].str.replace('~@~','\\n') # Troca o separador\n",
    "df['cd_ramo_atividade'] = df['cd_ramo_atividade'].str.replace('~@~','\\n') # Troca o separador\n",
    "df['de_ramo_atividade'] = df['de_ramo_atividade'].str.replace('~@~','\\n') # Troca o separador"
   ]
  },
  {
   "cell_type": "markdown",
   "metadata": {},
   "source": [
    "**View Dataset**"
   ]
  },
  {
   "cell_type": "code",
   "execution_count": 224,
   "metadata": {},
   "outputs": [
    {
     "data": {
      "text/html": [
       "<div>\n",
       "<style scoped>\n",
       "    .dataframe tbody tr th:only-of-type {\n",
       "        vertical-align: middle;\n",
       "    }\n",
       "\n",
       "    .dataframe tbody tr th {\n",
       "        vertical-align: top;\n",
       "    }\n",
       "\n",
       "    .dataframe thead th {\n",
       "        text-align: right;\n",
       "    }\n",
       "</style>\n",
       "<table border=\"1\" class=\"dataframe\">\n",
       "  <thead>\n",
       "    <tr style=\"text-align: right;\">\n",
       "      <th></th>\n",
       "      <th>cd_cnpj</th>\n",
       "      <th>nu_ordem</th>\n",
       "      <th>cd_ramo_atividade</th>\n",
       "      <th>de_ramo_atividade</th>\n",
       "    </tr>\n",
       "  </thead>\n",
       "  <tbody>\n",
       "    <tr>\n",
       "      <th>0</th>\n",
       "      <td>12305448000100</td>\n",
       "      <td>0\\n1\\n2\\n3\\n4</td>\n",
       "      <td>1093701\\n4789099\\n7319003\\n8230001\\n9609202</td>\n",
       "      <td>AGENCIAS MATRIMONIAIS\\nCOMERCIO VAREJISTA DE O...</td>\n",
       "    </tr>\n",
       "    <tr>\n",
       "      <th>1</th>\n",
       "      <td>14180365000150</td>\n",
       "      <td>0\\n1\\n2</td>\n",
       "      <td>4530706\\n4542101\\n4613300</td>\n",
       "      <td>REPRESENTANTES COMERCIAIS E AGENTES DO COMERCI...</td>\n",
       "    </tr>\n",
       "    <tr>\n",
       "      <th>2</th>\n",
       "      <td>5610297000120</td>\n",
       "      <td>0</td>\n",
       "      <td>4782201</td>\n",
       "      <td>COMERCIO VAREJISTA DE CALCADOS</td>\n",
       "    </tr>\n",
       "    <tr>\n",
       "      <th>3</th>\n",
       "      <td>15044857000180</td>\n",
       "      <td>0</td>\n",
       "      <td>9602502</td>\n",
       "      <td>ATIVIDADES DE ESTETICA E OUTROS SERVICOS DE CU...</td>\n",
       "    </tr>\n",
       "    <tr>\n",
       "      <th>4</th>\n",
       "      <td>15028623000140</td>\n",
       "      <td>0\\n1</td>\n",
       "      <td>4789099\\n9329899</td>\n",
       "      <td>COMERCIO VAREJISTA DE OUTROS PRODUTOS NAO ESPE...</td>\n",
       "    </tr>\n",
       "  </tbody>\n",
       "</table>\n",
       "</div>"
      ],
      "text/plain": [
       "          cd_cnpj       nu_ordem                            cd_ramo_atividade  \\\n",
       "0  12305448000100  0\\n1\\n2\\n3\\n4  1093701\\n4789099\\n7319003\\n8230001\\n9609202   \n",
       "1  14180365000150        0\\n1\\n2                    4530706\\n4542101\\n4613300   \n",
       "2   5610297000120              0                                      4782201   \n",
       "3  15044857000180              0                                      9602502   \n",
       "4  15028623000140           0\\n1                             4789099\\n9329899   \n",
       "\n",
       "                                   de_ramo_atividade  \n",
       "0  AGENCIAS MATRIMONIAIS\\nCOMERCIO VAREJISTA DE O...  \n",
       "1  REPRESENTANTES COMERCIAIS E AGENTES DO COMERCI...  \n",
       "2                     COMERCIO VAREJISTA DE CALCADOS  \n",
       "3  ATIVIDADES DE ESTETICA E OUTROS SERVICOS DE CU...  \n",
       "4  COMERCIO VAREJISTA DE OUTROS PRODUTOS NAO ESPE...  "
      ]
     },
     "execution_count": 224,
     "metadata": {},
     "output_type": "execute_result"
    }
   ],
   "source": [
    "df.head()"
   ]
  },
  {
   "cell_type": "markdown",
   "metadata": {},
   "source": [
    "**Listas que vão receber os dados**"
   ]
  },
  {
   "cell_type": "code",
   "execution_count": 256,
   "metadata": {},
   "outputs": [],
   "source": [
    "IdList, list1, list2, list3 = [], [], [], []"
   ]
  },
  {
   "cell_type": "markdown",
   "metadata": {},
   "source": [
    "**Separando as linhas multivaloradas em uma lista**"
   ]
  },
  {
   "cell_type": "code",
   "execution_count": 258,
   "metadata": {},
   "outputs": [],
   "source": [
    "for index, row in df.iterrows():\n",
    "    if len(row['nu_ordem']) >1:\n",
    "        for i in row['nu_ordem']:\n",
    "            if i == '\\n':\n",
    "                pass\n",
    "            else:\n",
    "                list1.append(i)\n",
    "                IdList.append(row['cd_cnpj'])\n",
    "    else:\n",
    "        list1.append(row['nu_ordem'])\n",
    "        IdList.append(row['cd_cnpj'])\n",
    "        \n",
    "    for j in row['cd_ramo_atividade'].splitlines():\n",
    "        list2.append(j)\n",
    "        \n",
    "    for l in row['de_ramo_atividade'].splitlines():\n",
    "        list3.append(l)"
   ]
  },
  {
   "cell_type": "markdown",
   "metadata": {},
   "source": [
    "**Validar o número de dados por Coluna**"
   ]
  },
  {
   "cell_type": "code",
   "execution_count": 255,
   "metadata": {},
   "outputs": [
    {
     "name": "stdout",
     "output_type": "stream",
     "text": [
      "1º IdList: 15812 | 2º List: 15812 | 3º List: 15812 | 4º List: 15812\n"
     ]
    }
   ],
   "source": [
    "print(f'1º IdList: {len(IdList)} | 2º List: {len(list1)} | 3º List: {len(list2)} | 4º List: {len(list3)}')"
   ]
  },
  {
   "cell_type": "code",
   "execution_count": null,
   "metadata": {},
   "outputs": [],
   "source": [
    "'''for i in df['de_ramo_atividade'][1]:\n",
    "    if i == '\\n':\n",
    "        print()\n",
    "    else:\n",
    "        print(i, end='')'''"
   ]
  },
  {
   "cell_type": "markdown",
   "metadata": {},
   "source": [
    "**Juntando todas as listas em uma.**"
   ]
  },
  {
   "cell_type": "code",
   "execution_count": 273,
   "metadata": {},
   "outputs": [],
   "source": [
    "AllList = [[IdList], [list1], [list2], [list3]]"
   ]
  },
  {
   "cell_type": "markdown",
   "metadata": {},
   "source": [
    "**Criar o novo Dataframe com os Dados Já Separados**"
   ]
  },
  {
   "cell_type": "code",
   "execution_count": 287,
   "metadata": {},
   "outputs": [],
   "source": [
    "df_1 = pd.DataFrame(list(zip(IdList, list1, list2, list3)), columns = ['cd_cnpj', 'nu_ordem', 'cd_ramo_atividade', 'de_ramo_atividade'])"
   ]
  },
  {
   "cell_type": "markdown",
   "metadata": {},
   "source": [
    "**View DataFrame**"
   ]
  },
  {
   "cell_type": "code",
   "execution_count": 290,
   "metadata": {},
   "outputs": [
    {
     "data": {
      "text/html": [
       "<div>\n",
       "<style scoped>\n",
       "    .dataframe tbody tr th:only-of-type {\n",
       "        vertical-align: middle;\n",
       "    }\n",
       "\n",
       "    .dataframe tbody tr th {\n",
       "        vertical-align: top;\n",
       "    }\n",
       "\n",
       "    .dataframe thead th {\n",
       "        text-align: right;\n",
       "    }\n",
       "</style>\n",
       "<table border=\"1\" class=\"dataframe\">\n",
       "  <thead>\n",
       "    <tr style=\"text-align: right;\">\n",
       "      <th></th>\n",
       "      <th>cd_cnpj</th>\n",
       "      <th>nu_ordem</th>\n",
       "      <th>cd_ramo_atividade</th>\n",
       "      <th>de_ramo_atividade</th>\n",
       "    </tr>\n",
       "  </thead>\n",
       "  <tbody>\n",
       "    <tr>\n",
       "      <th>0</th>\n",
       "      <td>12305448000100</td>\n",
       "      <td>0</td>\n",
       "      <td>1093701</td>\n",
       "      <td>AGENCIAS MATRIMONIAIS</td>\n",
       "    </tr>\n",
       "    <tr>\n",
       "      <th>1</th>\n",
       "      <td>12305448000100</td>\n",
       "      <td>1</td>\n",
       "      <td>4789099</td>\n",
       "      <td>COMERCIO VAREJISTA DE OUTROS PRODUTOS NAO ESPE...</td>\n",
       "    </tr>\n",
       "    <tr>\n",
       "      <th>2</th>\n",
       "      <td>12305448000100</td>\n",
       "      <td>2</td>\n",
       "      <td>7319003</td>\n",
       "      <td>FABRICACAO DE PRODUTOS DERIVADOS DO CACAU E DE...</td>\n",
       "    </tr>\n",
       "    <tr>\n",
       "      <th>3</th>\n",
       "      <td>12305448000100</td>\n",
       "      <td>3</td>\n",
       "      <td>8230001</td>\n",
       "      <td>MARKETING DIRETO</td>\n",
       "    </tr>\n",
       "    <tr>\n",
       "      <th>4</th>\n",
       "      <td>12305448000100</td>\n",
       "      <td>4</td>\n",
       "      <td>9609202</td>\n",
       "      <td>SERVICOS DE ORGANIZACAO DE FEIRAS, CONGRESSOS,...</td>\n",
       "    </tr>\n",
       "    <tr>\n",
       "      <th>...</th>\n",
       "      <td>...</td>\n",
       "      <td>...</td>\n",
       "      <td>...</td>\n",
       "      <td>...</td>\n",
       "    </tr>\n",
       "    <tr>\n",
       "      <th>15807</th>\n",
       "      <td>13257780000100</td>\n",
       "      <td>0</td>\n",
       "      <td>1622699</td>\n",
       "      <td>FABRICACAO DE OUTROS ARTIGOS DE CARPINTARIA PA...</td>\n",
       "    </tr>\n",
       "    <tr>\n",
       "      <th>15808</th>\n",
       "      <td>13103097000100</td>\n",
       "      <td>0</td>\n",
       "      <td>4520005</td>\n",
       "      <td>SERVICOS DE LAVAGEM, LUBRIFICACAO E POLIMENTO ...</td>\n",
       "    </tr>\n",
       "    <tr>\n",
       "      <th>15809</th>\n",
       "      <td>37628765000180</td>\n",
       "      <td>1</td>\n",
       "      <td>4742300</td>\n",
       "      <td>COMERCIO VAREJISTA DE FERRAGENS E FERRAMENTAS</td>\n",
       "    </tr>\n",
       "    <tr>\n",
       "      <th>15810</th>\n",
       "      <td>37628765000180</td>\n",
       "      <td>2</td>\n",
       "      <td>4744001</td>\n",
       "      <td>COMERCIO VAREJISTA DE MATERIAIS HIDRAULICOS</td>\n",
       "    </tr>\n",
       "    <tr>\n",
       "      <th>15811</th>\n",
       "      <td>37628765000180</td>\n",
       "      <td>3</td>\n",
       "      <td>4744003</td>\n",
       "      <td>COMERCIO VAREJISTA DE MATERIAL ELETRICO</td>\n",
       "    </tr>\n",
       "  </tbody>\n",
       "</table>\n",
       "<p>15812 rows × 4 columns</p>\n",
       "</div>"
      ],
      "text/plain": [
       "              cd_cnpj nu_ordem cd_ramo_atividade  \\\n",
       "0      12305448000100        0           1093701   \n",
       "1      12305448000100        1           4789099   \n",
       "2      12305448000100        2           7319003   \n",
       "3      12305448000100        3           8230001   \n",
       "4      12305448000100        4           9609202   \n",
       "...               ...      ...               ...   \n",
       "15807  13257780000100        0           1622699   \n",
       "15808  13103097000100        0           4520005   \n",
       "15809  37628765000180        1           4742300   \n",
       "15810  37628765000180        2           4744001   \n",
       "15811  37628765000180        3           4744003   \n",
       "\n",
       "                                       de_ramo_atividade  \n",
       "0                                  AGENCIAS MATRIMONIAIS  \n",
       "1      COMERCIO VAREJISTA DE OUTROS PRODUTOS NAO ESPE...  \n",
       "2      FABRICACAO DE PRODUTOS DERIVADOS DO CACAU E DE...  \n",
       "3                                       MARKETING DIRETO  \n",
       "4      SERVICOS DE ORGANIZACAO DE FEIRAS, CONGRESSOS,...  \n",
       "...                                                  ...  \n",
       "15807  FABRICACAO DE OUTROS ARTIGOS DE CARPINTARIA PA...  \n",
       "15808  SERVICOS DE LAVAGEM, LUBRIFICACAO E POLIMENTO ...  \n",
       "15809      COMERCIO VAREJISTA DE FERRAGENS E FERRAMENTAS  \n",
       "15810        COMERCIO VAREJISTA DE MATERIAIS HIDRAULICOS  \n",
       "15811            COMERCIO VAREJISTA DE MATERIAL ELETRICO  \n",
       "\n",
       "[15812 rows x 4 columns]"
      ]
     },
     "execution_count": 290,
     "metadata": {},
     "output_type": "execute_result"
    }
   ],
   "source": [
    "df_1"
   ]
  },
  {
   "cell_type": "markdown",
   "metadata": {},
   "source": [
    "**Coloca o Novo DataFrame em um arquivo CSV.**"
   ]
  },
  {
   "cell_type": "code",
   "execution_count": 292,
   "metadata": {},
   "outputs": [],
   "source": [
    "df_1.to_csv('C:\\\\Users\\\\Matth\\\\Downloads\\\\CNAE_CLEAN.csv', sep=';', encoding='utf8', index=False)"
   ]
  },
  {
   "cell_type": "markdown",
   "metadata": {},
   "source": [
    "## Segundo Test"
   ]
  },
  {
   "cell_type": "code",
   "execution_count": 44,
   "metadata": {},
   "outputs": [],
   "source": [
    "df = pd.read_csv('C:\\\\Users\\\\Matth\\\\Downloads\\\\CNAE_CLEAN.csv', sep=';', encoding='utf8')"
   ]
  },
  {
   "cell_type": "code",
   "execution_count": 45,
   "metadata": {},
   "outputs": [
    {
     "data": {
      "text/html": [
       "<div>\n",
       "<style scoped>\n",
       "    .dataframe tbody tr th:only-of-type {\n",
       "        vertical-align: middle;\n",
       "    }\n",
       "\n",
       "    .dataframe tbody tr th {\n",
       "        vertical-align: top;\n",
       "    }\n",
       "\n",
       "    .dataframe thead th {\n",
       "        text-align: right;\n",
       "    }\n",
       "</style>\n",
       "<table border=\"1\" class=\"dataframe\">\n",
       "  <thead>\n",
       "    <tr style=\"text-align: right;\">\n",
       "      <th></th>\n",
       "      <th>cd_cnpj</th>\n",
       "      <th>nu_ordem</th>\n",
       "      <th>cd_ramo_atividade</th>\n",
       "      <th>de_ramo_atividade</th>\n",
       "    </tr>\n",
       "  </thead>\n",
       "  <tbody>\n",
       "    <tr>\n",
       "      <th>0</th>\n",
       "      <td>12305448000100</td>\n",
       "      <td>0</td>\n",
       "      <td>1093701</td>\n",
       "      <td>AGENCIAS MATRIMONIAIS</td>\n",
       "    </tr>\n",
       "    <tr>\n",
       "      <th>1</th>\n",
       "      <td>12305448000100</td>\n",
       "      <td>1</td>\n",
       "      <td>4789099</td>\n",
       "      <td>COMERCIO VAREJISTA DE OUTROS PRODUTOS NAO ESPE...</td>\n",
       "    </tr>\n",
       "    <tr>\n",
       "      <th>2</th>\n",
       "      <td>12305448000100</td>\n",
       "      <td>2</td>\n",
       "      <td>7319003</td>\n",
       "      <td>FABRICACAO DE PRODUTOS DERIVADOS DO CACAU E DE...</td>\n",
       "    </tr>\n",
       "    <tr>\n",
       "      <th>3</th>\n",
       "      <td>12305448000100</td>\n",
       "      <td>3</td>\n",
       "      <td>8230001</td>\n",
       "      <td>MARKETING DIRETO</td>\n",
       "    </tr>\n",
       "    <tr>\n",
       "      <th>4</th>\n",
       "      <td>12305448000100</td>\n",
       "      <td>4</td>\n",
       "      <td>9609202</td>\n",
       "      <td>SERVICOS DE ORGANIZACAO DE FEIRAS, CONGRESSOS,...</td>\n",
       "    </tr>\n",
       "  </tbody>\n",
       "</table>\n",
       "</div>"
      ],
      "text/plain": [
       "          cd_cnpj  nu_ordem  cd_ramo_atividade  \\\n",
       "0  12305448000100         0            1093701   \n",
       "1  12305448000100         1            4789099   \n",
       "2  12305448000100         2            7319003   \n",
       "3  12305448000100         3            8230001   \n",
       "4  12305448000100         4            9609202   \n",
       "\n",
       "                                   de_ramo_atividade  \n",
       "0                              AGENCIAS MATRIMONIAIS  \n",
       "1  COMERCIO VAREJISTA DE OUTROS PRODUTOS NAO ESPE...  \n",
       "2  FABRICACAO DE PRODUTOS DERIVADOS DO CACAU E DE...  \n",
       "3                                   MARKETING DIRETO  \n",
       "4  SERVICOS DE ORGANIZACAO DE FEIRAS, CONGRESSOS,...  "
      ]
     },
     "execution_count": 45,
     "metadata": {},
     "output_type": "execute_result"
    }
   ],
   "source": [
    "df.head()"
   ]
  },
  {
   "cell_type": "code",
   "execution_count": 7,
   "metadata": {},
   "outputs": [
    {
     "data": {
      "text/html": [
       "<div>\n",
       "<style scoped>\n",
       "    .dataframe tbody tr th:only-of-type {\n",
       "        vertical-align: middle;\n",
       "    }\n",
       "\n",
       "    .dataframe tbody tr th {\n",
       "        vertical-align: top;\n",
       "    }\n",
       "\n",
       "    .dataframe thead th {\n",
       "        text-align: right;\n",
       "    }\n",
       "</style>\n",
       "<table border=\"1\" class=\"dataframe\">\n",
       "  <thead>\n",
       "    <tr style=\"text-align: right;\">\n",
       "      <th></th>\n",
       "      <th>cd_cnpj</th>\n",
       "      <th>nu_ordem</th>\n",
       "      <th>cd_ramo_atividade</th>\n",
       "      <th>de_ramo_atividade</th>\n",
       "    </tr>\n",
       "  </thead>\n",
       "  <tbody>\n",
       "    <tr>\n",
       "      <th>13989</th>\n",
       "      <td>8339554000120</td>\n",
       "      <td>0</td>\n",
       "      <td>111301</td>\n",
       "      <td>CRIACAO DE BOVINOS PARA CORTE</td>\n",
       "    </tr>\n",
       "    <tr>\n",
       "      <th>14449</th>\n",
       "      <td>8550792000180</td>\n",
       "      <td>0</td>\n",
       "      <td>111301</td>\n",
       "      <td>CULTIVO DE ARROZ</td>\n",
       "    </tr>\n",
       "    <tr>\n",
       "      <th>10463</th>\n",
       "      <td>9462147000410</td>\n",
       "      <td>0</td>\n",
       "      <td>111301</td>\n",
       "      <td>CULTIVO DE ALGODAO HERBACEO</td>\n",
       "    </tr>\n",
       "    <tr>\n",
       "      <th>15633</th>\n",
       "      <td>8550380000140</td>\n",
       "      <td>0</td>\n",
       "      <td>111301</td>\n",
       "      <td>CULTIVO DE ARROZ</td>\n",
       "    </tr>\n",
       "    <tr>\n",
       "      <th>8682</th>\n",
       "      <td>8994459000160</td>\n",
       "      <td>0</td>\n",
       "      <td>111302</td>\n",
       "      <td>CRIACAO DE BOVINOS PARA CORTE</td>\n",
       "    </tr>\n",
       "    <tr>\n",
       "      <th>...</th>\n",
       "      <td>...</td>\n",
       "      <td>...</td>\n",
       "      <td>...</td>\n",
       "      <td>...</td>\n",
       "    </tr>\n",
       "    <tr>\n",
       "      <th>13406</th>\n",
       "      <td>12900275000160</td>\n",
       "      <td>0</td>\n",
       "      <td>9609299</td>\n",
       "      <td>OUTRAS ATIVIDADES DE SERVICOS PESSOAIS NAO ESP...</td>\n",
       "    </tr>\n",
       "    <tr>\n",
       "      <th>14534</th>\n",
       "      <td>14617605000130</td>\n",
       "      <td>4</td>\n",
       "      <td>9609299</td>\n",
       "      <td>TRANSPORTE RODOVIARIO DE MUDANCAS</td>\n",
       "    </tr>\n",
       "    <tr>\n",
       "      <th>11447</th>\n",
       "      <td>15293000180</td>\n",
       "      <td>4</td>\n",
       "      <td>9609299</td>\n",
       "      <td>SERVICOS COMBINADOS PARA APOIO A EDIFICIOS, EX...</td>\n",
       "    </tr>\n",
       "    <tr>\n",
       "      <th>15434</th>\n",
       "      <td>12354371000150</td>\n",
       "      <td>0</td>\n",
       "      <td>9609299</td>\n",
       "      <td>OUTRAS ATIVIDADES DE SERVICOS PESSOAIS NAO ESP...</td>\n",
       "    </tr>\n",
       "    <tr>\n",
       "      <th>5634</th>\n",
       "      <td>3973950000190</td>\n",
       "      <td>0</td>\n",
       "      <td>9900800</td>\n",
       "      <td>ORGANISMOS INTERNACIONAIS E OUTRAS INSTITUICOE...</td>\n",
       "    </tr>\n",
       "  </tbody>\n",
       "</table>\n",
       "<p>15812 rows × 4 columns</p>\n",
       "</div>"
      ],
      "text/plain": [
       "              cd_cnpj  nu_ordem  cd_ramo_atividade  \\\n",
       "13989   8339554000120         0             111301   \n",
       "14449   8550792000180         0             111301   \n",
       "10463   9462147000410         0             111301   \n",
       "15633   8550380000140         0             111301   \n",
       "8682    8994459000160         0             111302   \n",
       "...               ...       ...                ...   \n",
       "13406  12900275000160         0            9609299   \n",
       "14534  14617605000130         4            9609299   \n",
       "11447     15293000180         4            9609299   \n",
       "15434  12354371000150         0            9609299   \n",
       "5634    3973950000190         0            9900800   \n",
       "\n",
       "                                       de_ramo_atividade  \n",
       "13989                      CRIACAO DE BOVINOS PARA CORTE  \n",
       "14449                                   CULTIVO DE ARROZ  \n",
       "10463                        CULTIVO DE ALGODAO HERBACEO  \n",
       "15633                                   CULTIVO DE ARROZ  \n",
       "8682                       CRIACAO DE BOVINOS PARA CORTE  \n",
       "...                                                  ...  \n",
       "13406  OUTRAS ATIVIDADES DE SERVICOS PESSOAIS NAO ESP...  \n",
       "14534                  TRANSPORTE RODOVIARIO DE MUDANCAS  \n",
       "11447  SERVICOS COMBINADOS PARA APOIO A EDIFICIOS, EX...  \n",
       "15434  OUTRAS ATIVIDADES DE SERVICOS PESSOAIS NAO ESP...  \n",
       "5634   ORGANISMOS INTERNACIONAIS E OUTRAS INSTITUICOE...  \n",
       "\n",
       "[15812 rows x 4 columns]"
      ]
     },
     "execution_count": 7,
     "metadata": {},
     "output_type": "execute_result"
    }
   ],
   "source": [
    "df.sort_values(by='cd_ramo_atividade')"
   ]
  },
  {
   "cell_type": "code",
   "execution_count": 43,
   "metadata": {},
   "outputs": [],
   "source": [
    "AuxList = []\n",
    "for i in df['cd_ramo_atividade']:\n",
    "    if len(str(i)) > 6:\n",
    "        a = str(i)\n",
    "        AuxList.append(a[0:2])\n",
    "    else:\n",
    "        a = str(i)\n",
    "        AuxList.append(a[0])"
   ]
  },
  {
   "cell_type": "code",
   "execution_count": 46,
   "metadata": {},
   "outputs": [
    {
     "data": {
      "text/plain": [
       "15812"
      ]
     },
     "execution_count": 46,
     "metadata": {},
     "output_type": "execute_result"
    }
   ],
   "source": [
    "len(AuxList)"
   ]
  },
  {
   "cell_type": "code",
   "execution_count": 47,
   "metadata": {},
   "outputs": [],
   "source": [
    "df['NumRamo'] = AuxList"
   ]
  },
  {
   "cell_type": "code",
   "execution_count": 50,
   "metadata": {},
   "outputs": [],
   "source": [
    "df.to_csv('C:\\\\Neoway\\\\teste_bi-master\\\\teste_bi-master\\\\files\\\\spreadsheets\\\\CNAE_CLEAN.csv', sep=';', encoding='utf8', index=False)\n"
   ]
  }
 ],
 "metadata": {
  "kernelspec": {
   "display_name": "Python 3",
   "language": "python",
   "name": "python3"
  },
  "language_info": {
   "codemirror_mode": {
    "name": "ipython",
    "version": 3
   },
   "file_extension": ".py",
   "mimetype": "text/x-python",
   "name": "python",
   "nbconvert_exporter": "python",
   "pygments_lexer": "ipython3",
   "version": "3.7.6"
  }
 },
 "nbformat": 4,
 "nbformat_minor": 5
}
